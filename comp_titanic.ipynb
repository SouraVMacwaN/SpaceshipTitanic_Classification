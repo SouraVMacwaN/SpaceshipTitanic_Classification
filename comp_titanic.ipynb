{
 "cells": [
  {
   "cell_type": "code",
   "execution_count": 1,
   "metadata": {
    "_cell_guid": "b1076dfc-b9ad-4769-8c92-a6c4dae69d19",
    "_uuid": "8f2839f25d086af736a60e9eeb907d3b93b6e0e5",
    "execution": {
     "iopub.execute_input": "2022-06-19T19:12:05.843156Z",
     "iopub.status.busy": "2022-06-19T19:12:05.842514Z",
     "iopub.status.idle": "2022-06-19T19:12:05.855037Z",
     "shell.execute_reply": "2022-06-19T19:12:05.853671Z",
     "shell.execute_reply.started": "2022-06-19T19:12:05.843107Z"
    }
   },
   "outputs": [],
   "source": [
    "# This Python 3 environment comes with many helpful analytics libraries installed\n",
    "# It is defined by the kaggle/python Docker image: https://github.com/kaggle/docker-python\n",
    "# For example, here's several helpful packages to load\n",
    "\n",
    "import numpy as np # linear algebra\n",
    "import pandas as pd # data processing, CSV file I/O (e.g. pd.read_csv)\n",
    "\n",
    "# Input data files are available in the read-only \"../input/\" directory\n",
    "# For example, running this (by clicking run or pressing Shift+Enter) will list all files under the input directory\n",
    "\n",
    "# import os\n",
    "# for dirname, _, filenames in os.walk('/kaggle/input'):\n",
    "#     for filename in filenames:\n",
    "#         print(os.path.join(dirname, filename))\n",
    "\n",
    "# You can write up to 20GB to the current directory (/kaggle/working/) that gets preserved as output when you create a version using \"Save & Run All\" \n",
    "# You can also write temporary files to /kaggle/temp/, but they won't be saved outside of the current session"
   ]
  },
  {
   "cell_type": "code",
   "execution_count": 2,
   "metadata": {
    "execution": {
     "iopub.execute_input": "2022-06-19T19:12:05.858537Z",
     "iopub.status.busy": "2022-06-19T19:12:05.857335Z",
     "iopub.status.idle": "2022-06-19T19:12:05.916304Z",
     "shell.execute_reply": "2022-06-19T19:12:05.915195Z",
     "shell.execute_reply.started": "2022-06-19T19:12:05.85848Z"
    }
   },
   "outputs": [
    {
     "data": {
      "text/html": [
       "<div>\n",
       "<style scoped>\n",
       "    .dataframe tbody tr th:only-of-type {\n",
       "        vertical-align: middle;\n",
       "    }\n",
       "\n",
       "    .dataframe tbody tr th {\n",
       "        vertical-align: top;\n",
       "    }\n",
       "\n",
       "    .dataframe thead th {\n",
       "        text-align: right;\n",
       "    }\n",
       "</style>\n",
       "<table border=\"1\" class=\"dataframe\">\n",
       "  <thead>\n",
       "    <tr style=\"text-align: right;\">\n",
       "      <th></th>\n",
       "      <th>PassengerId</th>\n",
       "      <th>HomePlanet</th>\n",
       "      <th>CryoSleep</th>\n",
       "      <th>Cabin</th>\n",
       "      <th>Destination</th>\n",
       "      <th>Age</th>\n",
       "      <th>VIP</th>\n",
       "      <th>RoomService</th>\n",
       "      <th>FoodCourt</th>\n",
       "      <th>ShoppingMall</th>\n",
       "      <th>Spa</th>\n",
       "      <th>VRDeck</th>\n",
       "      <th>Name</th>\n",
       "      <th>Transported</th>\n",
       "    </tr>\n",
       "  </thead>\n",
       "  <tbody>\n",
       "    <tr>\n",
       "      <th>0</th>\n",
       "      <td>0001_01</td>\n",
       "      <td>Europa</td>\n",
       "      <td>False</td>\n",
       "      <td>B/0/P</td>\n",
       "      <td>TRAPPIST-1e</td>\n",
       "      <td>39.0</td>\n",
       "      <td>False</td>\n",
       "      <td>0.0</td>\n",
       "      <td>0.0</td>\n",
       "      <td>0.0</td>\n",
       "      <td>0.0</td>\n",
       "      <td>0.0</td>\n",
       "      <td>Maham Ofracculy</td>\n",
       "      <td>False</td>\n",
       "    </tr>\n",
       "    <tr>\n",
       "      <th>1</th>\n",
       "      <td>0002_01</td>\n",
       "      <td>Earth</td>\n",
       "      <td>False</td>\n",
       "      <td>F/0/S</td>\n",
       "      <td>TRAPPIST-1e</td>\n",
       "      <td>24.0</td>\n",
       "      <td>False</td>\n",
       "      <td>109.0</td>\n",
       "      <td>9.0</td>\n",
       "      <td>25.0</td>\n",
       "      <td>549.0</td>\n",
       "      <td>44.0</td>\n",
       "      <td>Juanna Vines</td>\n",
       "      <td>True</td>\n",
       "    </tr>\n",
       "    <tr>\n",
       "      <th>2</th>\n",
       "      <td>0003_01</td>\n",
       "      <td>Europa</td>\n",
       "      <td>False</td>\n",
       "      <td>A/0/S</td>\n",
       "      <td>TRAPPIST-1e</td>\n",
       "      <td>58.0</td>\n",
       "      <td>True</td>\n",
       "      <td>43.0</td>\n",
       "      <td>3576.0</td>\n",
       "      <td>0.0</td>\n",
       "      <td>6715.0</td>\n",
       "      <td>49.0</td>\n",
       "      <td>Altark Susent</td>\n",
       "      <td>False</td>\n",
       "    </tr>\n",
       "    <tr>\n",
       "      <th>3</th>\n",
       "      <td>0003_02</td>\n",
       "      <td>Europa</td>\n",
       "      <td>False</td>\n",
       "      <td>A/0/S</td>\n",
       "      <td>TRAPPIST-1e</td>\n",
       "      <td>33.0</td>\n",
       "      <td>False</td>\n",
       "      <td>0.0</td>\n",
       "      <td>1283.0</td>\n",
       "      <td>371.0</td>\n",
       "      <td>3329.0</td>\n",
       "      <td>193.0</td>\n",
       "      <td>Solam Susent</td>\n",
       "      <td>False</td>\n",
       "    </tr>\n",
       "    <tr>\n",
       "      <th>4</th>\n",
       "      <td>0004_01</td>\n",
       "      <td>Earth</td>\n",
       "      <td>False</td>\n",
       "      <td>F/1/S</td>\n",
       "      <td>TRAPPIST-1e</td>\n",
       "      <td>16.0</td>\n",
       "      <td>False</td>\n",
       "      <td>303.0</td>\n",
       "      <td>70.0</td>\n",
       "      <td>151.0</td>\n",
       "      <td>565.0</td>\n",
       "      <td>2.0</td>\n",
       "      <td>Willy Santantines</td>\n",
       "      <td>True</td>\n",
       "    </tr>\n",
       "  </tbody>\n",
       "</table>\n",
       "</div>"
      ],
      "text/plain": [
       "  PassengerId HomePlanet CryoSleep  Cabin  Destination   Age    VIP  \\\n",
       "0     0001_01     Europa     False  B/0/P  TRAPPIST-1e  39.0  False   \n",
       "1     0002_01      Earth     False  F/0/S  TRAPPIST-1e  24.0  False   \n",
       "2     0003_01     Europa     False  A/0/S  TRAPPIST-1e  58.0   True   \n",
       "3     0003_02     Europa     False  A/0/S  TRAPPIST-1e  33.0  False   \n",
       "4     0004_01      Earth     False  F/1/S  TRAPPIST-1e  16.0  False   \n",
       "\n",
       "   RoomService  FoodCourt  ShoppingMall     Spa  VRDeck               Name  \\\n",
       "0          0.0        0.0           0.0     0.0     0.0    Maham Ofracculy   \n",
       "1        109.0        9.0          25.0   549.0    44.0       Juanna Vines   \n",
       "2         43.0     3576.0           0.0  6715.0    49.0      Altark Susent   \n",
       "3          0.0     1283.0         371.0  3329.0   193.0       Solam Susent   \n",
       "4        303.0       70.0         151.0   565.0     2.0  Willy Santantines   \n",
       "\n",
       "   Transported  \n",
       "0        False  \n",
       "1         True  \n",
       "2        False  \n",
       "3        False  \n",
       "4         True  "
      ]
     },
     "execution_count": 2,
     "metadata": {},
     "output_type": "execute_result"
    }
   ],
   "source": [
    "df_train = pd.read_csv('train.csv')\n",
    "df_train.head()"
   ]
  },
  {
   "cell_type": "code",
   "execution_count": 3,
   "metadata": {
    "execution": {
     "iopub.execute_input": "2022-06-19T19:12:05.919082Z",
     "iopub.status.busy": "2022-06-19T19:12:05.918229Z",
     "iopub.status.idle": "2022-06-19T19:12:05.958049Z",
     "shell.execute_reply": "2022-06-19T19:12:05.956719Z",
     "shell.execute_reply.started": "2022-06-19T19:12:05.919028Z"
    }
   },
   "outputs": [
    {
     "data": {
      "text/html": [
       "<div>\n",
       "<style scoped>\n",
       "    .dataframe tbody tr th:only-of-type {\n",
       "        vertical-align: middle;\n",
       "    }\n",
       "\n",
       "    .dataframe tbody tr th {\n",
       "        vertical-align: top;\n",
       "    }\n",
       "\n",
       "    .dataframe thead th {\n",
       "        text-align: right;\n",
       "    }\n",
       "</style>\n",
       "<table border=\"1\" class=\"dataframe\">\n",
       "  <thead>\n",
       "    <tr style=\"text-align: right;\">\n",
       "      <th></th>\n",
       "      <th>PassengerId</th>\n",
       "      <th>HomePlanet</th>\n",
       "      <th>CryoSleep</th>\n",
       "      <th>Cabin</th>\n",
       "      <th>Destination</th>\n",
       "      <th>Age</th>\n",
       "      <th>VIP</th>\n",
       "      <th>RoomService</th>\n",
       "      <th>FoodCourt</th>\n",
       "      <th>ShoppingMall</th>\n",
       "      <th>Spa</th>\n",
       "      <th>VRDeck</th>\n",
       "      <th>Name</th>\n",
       "    </tr>\n",
       "  </thead>\n",
       "  <tbody>\n",
       "    <tr>\n",
       "      <th>0</th>\n",
       "      <td>0013_01</td>\n",
       "      <td>Earth</td>\n",
       "      <td>True</td>\n",
       "      <td>G/3/S</td>\n",
       "      <td>TRAPPIST-1e</td>\n",
       "      <td>27.0</td>\n",
       "      <td>False</td>\n",
       "      <td>0.0</td>\n",
       "      <td>0.0</td>\n",
       "      <td>0.0</td>\n",
       "      <td>0.0</td>\n",
       "      <td>0.0</td>\n",
       "      <td>Nelly Carsoning</td>\n",
       "    </tr>\n",
       "    <tr>\n",
       "      <th>1</th>\n",
       "      <td>0018_01</td>\n",
       "      <td>Earth</td>\n",
       "      <td>False</td>\n",
       "      <td>F/4/S</td>\n",
       "      <td>TRAPPIST-1e</td>\n",
       "      <td>19.0</td>\n",
       "      <td>False</td>\n",
       "      <td>0.0</td>\n",
       "      <td>9.0</td>\n",
       "      <td>0.0</td>\n",
       "      <td>2823.0</td>\n",
       "      <td>0.0</td>\n",
       "      <td>Lerome Peckers</td>\n",
       "    </tr>\n",
       "    <tr>\n",
       "      <th>2</th>\n",
       "      <td>0019_01</td>\n",
       "      <td>Europa</td>\n",
       "      <td>True</td>\n",
       "      <td>C/0/S</td>\n",
       "      <td>55 Cancri e</td>\n",
       "      <td>31.0</td>\n",
       "      <td>False</td>\n",
       "      <td>0.0</td>\n",
       "      <td>0.0</td>\n",
       "      <td>0.0</td>\n",
       "      <td>0.0</td>\n",
       "      <td>0.0</td>\n",
       "      <td>Sabih Unhearfus</td>\n",
       "    </tr>\n",
       "    <tr>\n",
       "      <th>3</th>\n",
       "      <td>0021_01</td>\n",
       "      <td>Europa</td>\n",
       "      <td>False</td>\n",
       "      <td>C/1/S</td>\n",
       "      <td>TRAPPIST-1e</td>\n",
       "      <td>38.0</td>\n",
       "      <td>False</td>\n",
       "      <td>0.0</td>\n",
       "      <td>6652.0</td>\n",
       "      <td>0.0</td>\n",
       "      <td>181.0</td>\n",
       "      <td>585.0</td>\n",
       "      <td>Meratz Caltilter</td>\n",
       "    </tr>\n",
       "    <tr>\n",
       "      <th>4</th>\n",
       "      <td>0023_01</td>\n",
       "      <td>Earth</td>\n",
       "      <td>False</td>\n",
       "      <td>F/5/S</td>\n",
       "      <td>TRAPPIST-1e</td>\n",
       "      <td>20.0</td>\n",
       "      <td>False</td>\n",
       "      <td>10.0</td>\n",
       "      <td>0.0</td>\n",
       "      <td>635.0</td>\n",
       "      <td>0.0</td>\n",
       "      <td>0.0</td>\n",
       "      <td>Brence Harperez</td>\n",
       "    </tr>\n",
       "  </tbody>\n",
       "</table>\n",
       "</div>"
      ],
      "text/plain": [
       "  PassengerId HomePlanet CryoSleep  Cabin  Destination   Age    VIP  \\\n",
       "0     0013_01      Earth      True  G/3/S  TRAPPIST-1e  27.0  False   \n",
       "1     0018_01      Earth     False  F/4/S  TRAPPIST-1e  19.0  False   \n",
       "2     0019_01     Europa      True  C/0/S  55 Cancri e  31.0  False   \n",
       "3     0021_01     Europa     False  C/1/S  TRAPPIST-1e  38.0  False   \n",
       "4     0023_01      Earth     False  F/5/S  TRAPPIST-1e  20.0  False   \n",
       "\n",
       "   RoomService  FoodCourt  ShoppingMall     Spa  VRDeck              Name  \n",
       "0          0.0        0.0           0.0     0.0     0.0   Nelly Carsoning  \n",
       "1          0.0        9.0           0.0  2823.0     0.0    Lerome Peckers  \n",
       "2          0.0        0.0           0.0     0.0     0.0   Sabih Unhearfus  \n",
       "3          0.0     6652.0           0.0   181.0   585.0  Meratz Caltilter  \n",
       "4         10.0        0.0         635.0     0.0     0.0   Brence Harperez  "
      ]
     },
     "execution_count": 3,
     "metadata": {},
     "output_type": "execute_result"
    }
   ],
   "source": [
    "df_test = pd.read_csv('test.csv')\n",
    "test = df_test.copy()\n",
    "df_test.head()"
   ]
  },
  {
   "cell_type": "code",
   "execution_count": 4,
   "metadata": {
    "execution": {
     "iopub.execute_input": "2022-06-19T19:12:05.960055Z",
     "iopub.status.busy": "2022-06-19T19:12:05.959677Z",
     "iopub.status.idle": "2022-06-19T19:12:05.974545Z",
     "shell.execute_reply": "2022-06-19T19:12:05.973331Z",
     "shell.execute_reply.started": "2022-06-19T19:12:05.960022Z"
    }
   },
   "outputs": [
    {
     "data": {
      "text/plain": [
       "PassengerId       0\n",
       "HomePlanet      201\n",
       "CryoSleep       217\n",
       "Cabin           199\n",
       "Destination     182\n",
       "Age             179\n",
       "VIP             203\n",
       "RoomService     181\n",
       "FoodCourt       183\n",
       "ShoppingMall    208\n",
       "Spa             183\n",
       "VRDeck          188\n",
       "Name            200\n",
       "Transported       0\n",
       "dtype: int64"
      ]
     },
     "execution_count": 4,
     "metadata": {},
     "output_type": "execute_result"
    }
   ],
   "source": [
    "df_train.isnull().sum()"
   ]
  },
  {
   "cell_type": "code",
   "execution_count": 5,
   "metadata": {
    "execution": {
     "iopub.execute_input": "2022-06-19T19:12:05.979547Z",
     "iopub.status.busy": "2022-06-19T19:12:05.97864Z",
     "iopub.status.idle": "2022-06-19T19:12:05.987916Z",
     "shell.execute_reply": "2022-06-19T19:12:05.986943Z",
     "shell.execute_reply.started": "2022-06-19T19:12:05.979475Z"
    }
   },
   "outputs": [
    {
     "data": {
      "text/plain": [
       "(8693, 14)"
      ]
     },
     "execution_count": 5,
     "metadata": {},
     "output_type": "execute_result"
    }
   ],
   "source": [
    "df_train.shape"
   ]
  },
  {
   "cell_type": "code",
   "execution_count": 6,
   "metadata": {
    "execution": {
     "iopub.execute_input": "2022-06-19T19:12:05.990599Z",
     "iopub.status.busy": "2022-06-19T19:12:05.989691Z",
     "iopub.status.idle": "2022-06-19T19:12:06.014978Z",
     "shell.execute_reply": "2022-06-19T19:12:06.013618Z",
     "shell.execute_reply.started": "2022-06-19T19:12:05.990541Z"
    }
   },
   "outputs": [
    {
     "name": "stdout",
     "output_type": "stream",
     "text": [
      "<class 'pandas.core.frame.DataFrame'>\n",
      "RangeIndex: 8693 entries, 0 to 8692\n",
      "Data columns (total 14 columns):\n",
      " #   Column        Non-Null Count  Dtype  \n",
      "---  ------        --------------  -----  \n",
      " 0   PassengerId   8693 non-null   object \n",
      " 1   HomePlanet    8492 non-null   object \n",
      " 2   CryoSleep     8476 non-null   object \n",
      " 3   Cabin         8494 non-null   object \n",
      " 4   Destination   8511 non-null   object \n",
      " 5   Age           8514 non-null   float64\n",
      " 6   VIP           8490 non-null   object \n",
      " 7   RoomService   8512 non-null   float64\n",
      " 8   FoodCourt     8510 non-null   float64\n",
      " 9   ShoppingMall  8485 non-null   float64\n",
      " 10  Spa           8510 non-null   float64\n",
      " 11  VRDeck        8505 non-null   float64\n",
      " 12  Name          8493 non-null   object \n",
      " 13  Transported   8693 non-null   bool   \n",
      "dtypes: bool(1), float64(6), object(7)\n",
      "memory usage: 891.5+ KB\n"
     ]
    }
   ],
   "source": [
    "df_train.info()"
   ]
  },
  {
   "cell_type": "code",
   "execution_count": 7,
   "metadata": {
    "execution": {
     "iopub.execute_input": "2022-06-19T19:12:06.016954Z",
     "iopub.status.busy": "2022-06-19T19:12:06.016556Z",
     "iopub.status.idle": "2022-06-19T19:12:06.055671Z",
     "shell.execute_reply": "2022-06-19T19:12:06.054467Z",
     "shell.execute_reply.started": "2022-06-19T19:12:06.016915Z"
    }
   },
   "outputs": [
    {
     "data": {
      "text/html": [
       "<div>\n",
       "<style scoped>\n",
       "    .dataframe tbody tr th:only-of-type {\n",
       "        vertical-align: middle;\n",
       "    }\n",
       "\n",
       "    .dataframe tbody tr th {\n",
       "        vertical-align: top;\n",
       "    }\n",
       "\n",
       "    .dataframe thead th {\n",
       "        text-align: right;\n",
       "    }\n",
       "</style>\n",
       "<table border=\"1\" class=\"dataframe\">\n",
       "  <thead>\n",
       "    <tr style=\"text-align: right;\">\n",
       "      <th></th>\n",
       "      <th>Age</th>\n",
       "      <th>RoomService</th>\n",
       "      <th>FoodCourt</th>\n",
       "      <th>ShoppingMall</th>\n",
       "      <th>Spa</th>\n",
       "      <th>VRDeck</th>\n",
       "    </tr>\n",
       "  </thead>\n",
       "  <tbody>\n",
       "    <tr>\n",
       "      <th>count</th>\n",
       "      <td>8514.000000</td>\n",
       "      <td>8512.000000</td>\n",
       "      <td>8510.000000</td>\n",
       "      <td>8485.000000</td>\n",
       "      <td>8510.000000</td>\n",
       "      <td>8505.000000</td>\n",
       "    </tr>\n",
       "    <tr>\n",
       "      <th>mean</th>\n",
       "      <td>28.827930</td>\n",
       "      <td>224.687617</td>\n",
       "      <td>458.077203</td>\n",
       "      <td>173.729169</td>\n",
       "      <td>311.138778</td>\n",
       "      <td>304.854791</td>\n",
       "    </tr>\n",
       "    <tr>\n",
       "      <th>std</th>\n",
       "      <td>14.489021</td>\n",
       "      <td>666.717663</td>\n",
       "      <td>1611.489240</td>\n",
       "      <td>604.696458</td>\n",
       "      <td>1136.705535</td>\n",
       "      <td>1145.717189</td>\n",
       "    </tr>\n",
       "    <tr>\n",
       "      <th>min</th>\n",
       "      <td>0.000000</td>\n",
       "      <td>0.000000</td>\n",
       "      <td>0.000000</td>\n",
       "      <td>0.000000</td>\n",
       "      <td>0.000000</td>\n",
       "      <td>0.000000</td>\n",
       "    </tr>\n",
       "    <tr>\n",
       "      <th>25%</th>\n",
       "      <td>19.000000</td>\n",
       "      <td>0.000000</td>\n",
       "      <td>0.000000</td>\n",
       "      <td>0.000000</td>\n",
       "      <td>0.000000</td>\n",
       "      <td>0.000000</td>\n",
       "    </tr>\n",
       "    <tr>\n",
       "      <th>50%</th>\n",
       "      <td>27.000000</td>\n",
       "      <td>0.000000</td>\n",
       "      <td>0.000000</td>\n",
       "      <td>0.000000</td>\n",
       "      <td>0.000000</td>\n",
       "      <td>0.000000</td>\n",
       "    </tr>\n",
       "    <tr>\n",
       "      <th>75%</th>\n",
       "      <td>38.000000</td>\n",
       "      <td>47.000000</td>\n",
       "      <td>76.000000</td>\n",
       "      <td>27.000000</td>\n",
       "      <td>59.000000</td>\n",
       "      <td>46.000000</td>\n",
       "    </tr>\n",
       "    <tr>\n",
       "      <th>max</th>\n",
       "      <td>79.000000</td>\n",
       "      <td>14327.000000</td>\n",
       "      <td>29813.000000</td>\n",
       "      <td>23492.000000</td>\n",
       "      <td>22408.000000</td>\n",
       "      <td>24133.000000</td>\n",
       "    </tr>\n",
       "  </tbody>\n",
       "</table>\n",
       "</div>"
      ],
      "text/plain": [
       "               Age   RoomService     FoodCourt  ShoppingMall           Spa  \\\n",
       "count  8514.000000   8512.000000   8510.000000   8485.000000   8510.000000   \n",
       "mean     28.827930    224.687617    458.077203    173.729169    311.138778   \n",
       "std      14.489021    666.717663   1611.489240    604.696458   1136.705535   \n",
       "min       0.000000      0.000000      0.000000      0.000000      0.000000   \n",
       "25%      19.000000      0.000000      0.000000      0.000000      0.000000   \n",
       "50%      27.000000      0.000000      0.000000      0.000000      0.000000   \n",
       "75%      38.000000     47.000000     76.000000     27.000000     59.000000   \n",
       "max      79.000000  14327.000000  29813.000000  23492.000000  22408.000000   \n",
       "\n",
       "             VRDeck  \n",
       "count   8505.000000  \n",
       "mean     304.854791  \n",
       "std     1145.717189  \n",
       "min        0.000000  \n",
       "25%        0.000000  \n",
       "50%        0.000000  \n",
       "75%       46.000000  \n",
       "max    24133.000000  "
      ]
     },
     "execution_count": 7,
     "metadata": {},
     "output_type": "execute_result"
    }
   ],
   "source": [
    "df_train.describe()"
   ]
  },
  {
   "cell_type": "code",
   "execution_count": 8,
   "metadata": {
    "execution": {
     "iopub.execute_input": "2022-06-19T19:12:06.057862Z",
     "iopub.status.busy": "2022-06-19T19:12:06.057434Z",
     "iopub.status.idle": "2022-06-19T19:12:06.064815Z",
     "shell.execute_reply": "2022-06-19T19:12:06.063726Z",
     "shell.execute_reply.started": "2022-06-19T19:12:06.057823Z"
    }
   },
   "outputs": [],
   "source": [
    "df_train.drop('PassengerId',axis = 1,inplace = True)"
   ]
  },
  {
   "cell_type": "code",
   "execution_count": 9,
   "metadata": {
    "execution": {
     "iopub.execute_input": "2022-06-19T19:12:06.066804Z",
     "iopub.status.busy": "2022-06-19T19:12:06.066302Z",
     "iopub.status.idle": "2022-06-19T19:12:06.082286Z",
     "shell.execute_reply": "2022-06-19T19:12:06.081348Z",
     "shell.execute_reply.started": "2022-06-19T19:12:06.06676Z"
    }
   },
   "outputs": [
    {
     "data": {
      "text/plain": [
       "Earth     4602\n",
       "Europa    2131\n",
       "Mars      1759\n",
       "Name: HomePlanet, dtype: int64"
      ]
     },
     "execution_count": 9,
     "metadata": {},
     "output_type": "execute_result"
    }
   ],
   "source": [
    "df_train['HomePlanet'].value_counts()"
   ]
  },
  {
   "cell_type": "code",
   "execution_count": 10,
   "metadata": {
    "execution": {
     "iopub.execute_input": "2022-06-19T19:12:06.084579Z",
     "iopub.status.busy": "2022-06-19T19:12:06.083967Z",
     "iopub.status.idle": "2022-06-19T19:12:06.109677Z",
     "shell.execute_reply": "2022-06-19T19:12:06.108123Z",
     "shell.execute_reply.started": "2022-06-19T19:12:06.084534Z"
    }
   },
   "outputs": [],
   "source": [
    "df_train_planet = pd.get_dummies(df_train['HomePlanet'],drop_first = True)\n",
    "df_test_planet = pd.get_dummies(df_test['HomePlanet'],drop_first = True)\n",
    "df_train = pd.concat([df_train,df_train_planet],axis = 1)\n",
    "df_test = pd.concat([df_test,df_test_planet],axis = 1)\n",
    "df_train.drop('HomePlanet',axis = 1, inplace = True)\n",
    "df_test.drop('HomePlanet',axis = 1, inplace = True)"
   ]
  },
  {
   "cell_type": "code",
   "execution_count": 11,
   "metadata": {
    "execution": {
     "iopub.execute_input": "2022-06-19T19:12:06.114327Z",
     "iopub.status.busy": "2022-06-19T19:12:06.113434Z",
     "iopub.status.idle": "2022-06-19T19:12:06.121594Z",
     "shell.execute_reply": "2022-06-19T19:12:06.120509Z",
     "shell.execute_reply.started": "2022-06-19T19:12:06.114248Z"
    }
   },
   "outputs": [
    {
     "data": {
      "text/plain": [
       "(8693, 14)"
      ]
     },
     "execution_count": 11,
     "metadata": {},
     "output_type": "execute_result"
    }
   ],
   "source": [
    "df_train.shape"
   ]
  },
  {
   "cell_type": "code",
   "execution_count": 12,
   "metadata": {
    "execution": {
     "iopub.execute_input": "2022-06-19T19:12:06.124168Z",
     "iopub.status.busy": "2022-06-19T19:12:06.123073Z",
     "iopub.status.idle": "2022-06-19T19:12:06.143887Z",
     "shell.execute_reply": "2022-06-19T19:12:06.142383Z",
     "shell.execute_reply.started": "2022-06-19T19:12:06.124114Z"
    }
   },
   "outputs": [],
   "source": [
    "cols = ['CryoSleep','VIP']\n",
    "\n",
    "for i in cols:\n",
    "    df_train[i] = df_train[i].map({True:1, False:0})\n",
    "    df_test[i] = df_test[i].map({True:1, False:0})"
   ]
  },
  {
   "cell_type": "code",
   "execution_count": 13,
   "metadata": {
    "execution": {
     "iopub.execute_input": "2022-06-19T19:12:06.145662Z",
     "iopub.status.busy": "2022-06-19T19:12:06.145227Z",
     "iopub.status.idle": "2022-06-19T19:12:06.166817Z",
     "shell.execute_reply": "2022-06-19T19:12:06.16573Z",
     "shell.execute_reply.started": "2022-06-19T19:12:06.145621Z"
    }
   },
   "outputs": [
    {
     "data": {
      "text/html": [
       "<div>\n",
       "<style scoped>\n",
       "    .dataframe tbody tr th:only-of-type {\n",
       "        vertical-align: middle;\n",
       "    }\n",
       "\n",
       "    .dataframe tbody tr th {\n",
       "        vertical-align: top;\n",
       "    }\n",
       "\n",
       "    .dataframe thead th {\n",
       "        text-align: right;\n",
       "    }\n",
       "</style>\n",
       "<table border=\"1\" class=\"dataframe\">\n",
       "  <thead>\n",
       "    <tr style=\"text-align: right;\">\n",
       "      <th></th>\n",
       "      <th>CryoSleep</th>\n",
       "      <th>Cabin</th>\n",
       "      <th>Destination</th>\n",
       "      <th>Age</th>\n",
       "      <th>VIP</th>\n",
       "      <th>RoomService</th>\n",
       "      <th>FoodCourt</th>\n",
       "      <th>ShoppingMall</th>\n",
       "      <th>Spa</th>\n",
       "      <th>VRDeck</th>\n",
       "      <th>Name</th>\n",
       "      <th>Transported</th>\n",
       "      <th>Europa</th>\n",
       "      <th>Mars</th>\n",
       "    </tr>\n",
       "  </thead>\n",
       "  <tbody>\n",
       "    <tr>\n",
       "      <th>0</th>\n",
       "      <td>0.0</td>\n",
       "      <td>B/0/P</td>\n",
       "      <td>TRAPPIST-1e</td>\n",
       "      <td>39.0</td>\n",
       "      <td>0.0</td>\n",
       "      <td>0.0</td>\n",
       "      <td>0.0</td>\n",
       "      <td>0.0</td>\n",
       "      <td>0.0</td>\n",
       "      <td>0.0</td>\n",
       "      <td>Maham Ofracculy</td>\n",
       "      <td>False</td>\n",
       "      <td>1</td>\n",
       "      <td>0</td>\n",
       "    </tr>\n",
       "    <tr>\n",
       "      <th>1</th>\n",
       "      <td>0.0</td>\n",
       "      <td>F/0/S</td>\n",
       "      <td>TRAPPIST-1e</td>\n",
       "      <td>24.0</td>\n",
       "      <td>0.0</td>\n",
       "      <td>109.0</td>\n",
       "      <td>9.0</td>\n",
       "      <td>25.0</td>\n",
       "      <td>549.0</td>\n",
       "      <td>44.0</td>\n",
       "      <td>Juanna Vines</td>\n",
       "      <td>True</td>\n",
       "      <td>0</td>\n",
       "      <td>0</td>\n",
       "    </tr>\n",
       "    <tr>\n",
       "      <th>2</th>\n",
       "      <td>0.0</td>\n",
       "      <td>A/0/S</td>\n",
       "      <td>TRAPPIST-1e</td>\n",
       "      <td>58.0</td>\n",
       "      <td>1.0</td>\n",
       "      <td>43.0</td>\n",
       "      <td>3576.0</td>\n",
       "      <td>0.0</td>\n",
       "      <td>6715.0</td>\n",
       "      <td>49.0</td>\n",
       "      <td>Altark Susent</td>\n",
       "      <td>False</td>\n",
       "      <td>1</td>\n",
       "      <td>0</td>\n",
       "    </tr>\n",
       "    <tr>\n",
       "      <th>3</th>\n",
       "      <td>0.0</td>\n",
       "      <td>A/0/S</td>\n",
       "      <td>TRAPPIST-1e</td>\n",
       "      <td>33.0</td>\n",
       "      <td>0.0</td>\n",
       "      <td>0.0</td>\n",
       "      <td>1283.0</td>\n",
       "      <td>371.0</td>\n",
       "      <td>3329.0</td>\n",
       "      <td>193.0</td>\n",
       "      <td>Solam Susent</td>\n",
       "      <td>False</td>\n",
       "      <td>1</td>\n",
       "      <td>0</td>\n",
       "    </tr>\n",
       "    <tr>\n",
       "      <th>4</th>\n",
       "      <td>0.0</td>\n",
       "      <td>F/1/S</td>\n",
       "      <td>TRAPPIST-1e</td>\n",
       "      <td>16.0</td>\n",
       "      <td>0.0</td>\n",
       "      <td>303.0</td>\n",
       "      <td>70.0</td>\n",
       "      <td>151.0</td>\n",
       "      <td>565.0</td>\n",
       "      <td>2.0</td>\n",
       "      <td>Willy Santantines</td>\n",
       "      <td>True</td>\n",
       "      <td>0</td>\n",
       "      <td>0</td>\n",
       "    </tr>\n",
       "  </tbody>\n",
       "</table>\n",
       "</div>"
      ],
      "text/plain": [
       "   CryoSleep  Cabin  Destination   Age  VIP  RoomService  FoodCourt  \\\n",
       "0        0.0  B/0/P  TRAPPIST-1e  39.0  0.0          0.0        0.0   \n",
       "1        0.0  F/0/S  TRAPPIST-1e  24.0  0.0        109.0        9.0   \n",
       "2        0.0  A/0/S  TRAPPIST-1e  58.0  1.0         43.0     3576.0   \n",
       "3        0.0  A/0/S  TRAPPIST-1e  33.0  0.0          0.0     1283.0   \n",
       "4        0.0  F/1/S  TRAPPIST-1e  16.0  0.0        303.0       70.0   \n",
       "\n",
       "   ShoppingMall     Spa  VRDeck               Name  Transported  Europa  Mars  \n",
       "0           0.0     0.0     0.0    Maham Ofracculy        False       1     0  \n",
       "1          25.0   549.0    44.0       Juanna Vines         True       0     0  \n",
       "2           0.0  6715.0    49.0      Altark Susent        False       1     0  \n",
       "3         371.0  3329.0   193.0       Solam Susent        False       1     0  \n",
       "4         151.0   565.0     2.0  Willy Santantines         True       0     0  "
      ]
     },
     "execution_count": 13,
     "metadata": {},
     "output_type": "execute_result"
    }
   ],
   "source": [
    "df_train.head()"
   ]
  },
  {
   "cell_type": "code",
   "execution_count": 14,
   "metadata": {
    "execution": {
     "iopub.execute_input": "2022-06-19T19:12:06.168573Z",
     "iopub.status.busy": "2022-06-19T19:12:06.16814Z",
     "iopub.status.idle": "2022-06-19T19:12:06.181568Z",
     "shell.execute_reply": "2022-06-19T19:12:06.180661Z",
     "shell.execute_reply.started": "2022-06-19T19:12:06.168527Z"
    }
   },
   "outputs": [
    {
     "data": {
      "text/plain": [
       "0.0    2640\n",
       "1.0    1544\n",
       "Name: CryoSleep, dtype: int64"
      ]
     },
     "execution_count": 14,
     "metadata": {},
     "output_type": "execute_result"
    }
   ],
   "source": [
    "df_test['CryoSleep'].value_counts()"
   ]
  },
  {
   "cell_type": "code",
   "execution_count": 15,
   "metadata": {
    "execution": {
     "iopub.execute_input": "2022-06-19T19:12:06.18346Z",
     "iopub.status.busy": "2022-06-19T19:12:06.182695Z",
     "iopub.status.idle": "2022-06-19T19:12:06.193304Z",
     "shell.execute_reply": "2022-06-19T19:12:06.192294Z",
     "shell.execute_reply.started": "2022-06-19T19:12:06.183425Z"
    }
   },
   "outputs": [],
   "source": [
    "df_train['CryoSleep'] = df_train['CryoSleep'].fillna(0)\n",
    "df_test['CryoSleep'] = df_test['CryoSleep'].fillna(0)"
   ]
  },
  {
   "cell_type": "code",
   "execution_count": 16,
   "metadata": {
    "execution": {
     "iopub.execute_input": "2022-06-19T19:12:06.195145Z",
     "iopub.status.busy": "2022-06-19T19:12:06.194778Z",
     "iopub.status.idle": "2022-06-19T19:12:06.217205Z",
     "shell.execute_reply": "2022-06-19T19:12:06.216106Z",
     "shell.execute_reply.started": "2022-06-19T19:12:06.195111Z"
    }
   },
   "outputs": [
    {
     "name": "stdout",
     "output_type": "stream",
     "text": [
      "<class 'pandas.core.frame.DataFrame'>\n",
      "RangeIndex: 8693 entries, 0 to 8692\n",
      "Data columns (total 14 columns):\n",
      " #   Column        Non-Null Count  Dtype  \n",
      "---  ------        --------------  -----  \n",
      " 0   CryoSleep     8693 non-null   float64\n",
      " 1   Cabin         8494 non-null   object \n",
      " 2   Destination   8511 non-null   object \n",
      " 3   Age           8514 non-null   float64\n",
      " 4   VIP           8490 non-null   float64\n",
      " 5   RoomService   8512 non-null   float64\n",
      " 6   FoodCourt     8510 non-null   float64\n",
      " 7   ShoppingMall  8485 non-null   float64\n",
      " 8   Spa           8510 non-null   float64\n",
      " 9   VRDeck        8505 non-null   float64\n",
      " 10  Name          8493 non-null   object \n",
      " 11  Transported   8693 non-null   bool   \n",
      " 12  Europa        8693 non-null   uint8  \n",
      " 13  Mars          8693 non-null   uint8  \n",
      "dtypes: bool(1), float64(8), object(3), uint8(2)\n",
      "memory usage: 772.6+ KB\n"
     ]
    }
   ],
   "source": [
    "df_train.info()"
   ]
  },
  {
   "cell_type": "code",
   "execution_count": 17,
   "metadata": {
    "execution": {
     "iopub.execute_input": "2022-06-19T19:12:06.219148Z",
     "iopub.status.busy": "2022-06-19T19:12:06.218632Z",
     "iopub.status.idle": "2022-06-19T19:12:06.230649Z",
     "shell.execute_reply": "2022-06-19T19:12:06.229471Z",
     "shell.execute_reply.started": "2022-06-19T19:12:06.219108Z"
    }
   },
   "outputs": [],
   "source": [
    "df_train.drop('Name',axis = 1,inplace = True)\n",
    "df_test.drop('Name',axis = 1,inplace = True)"
   ]
  },
  {
   "cell_type": "code",
   "execution_count": 18,
   "metadata": {
    "execution": {
     "iopub.execute_input": "2022-06-19T19:12:06.232997Z",
     "iopub.status.busy": "2022-06-19T19:12:06.23207Z",
     "iopub.status.idle": "2022-06-19T19:12:06.246331Z",
     "shell.execute_reply": "2022-06-19T19:12:06.245556Z",
     "shell.execute_reply.started": "2022-06-19T19:12:06.232961Z"
    }
   },
   "outputs": [
    {
     "data": {
      "text/plain": [
       "G/734/S     8\n",
       "G/109/P     7\n",
       "B/201/P     7\n",
       "G/1368/P    7\n",
       "G/981/S     7\n",
       "           ..\n",
       "G/556/P     1\n",
       "E/231/S     1\n",
       "G/545/S     1\n",
       "G/543/S     1\n",
       "F/947/P     1\n",
       "Name: Cabin, Length: 6560, dtype: int64"
      ]
     },
     "execution_count": 18,
     "metadata": {},
     "output_type": "execute_result"
    }
   ],
   "source": [
    "df_train['Cabin'].value_counts()"
   ]
  },
  {
   "cell_type": "code",
   "execution_count": 19,
   "metadata": {
    "execution": {
     "iopub.execute_input": "2022-06-19T19:12:06.247978Z",
     "iopub.status.busy": "2022-06-19T19:12:06.247519Z",
     "iopub.status.idle": "2022-06-19T19:12:06.256415Z",
     "shell.execute_reply": "2022-06-19T19:12:06.25536Z",
     "shell.execute_reply.started": "2022-06-19T19:12:06.247946Z"
    }
   },
   "outputs": [],
   "source": [
    "df_train.drop('Cabin',axis = 1,inplace = True)\n",
    "df_test.drop('Cabin',axis = 1,inplace = True)"
   ]
  },
  {
   "cell_type": "code",
   "execution_count": 20,
   "metadata": {
    "execution": {
     "iopub.execute_input": "2022-06-19T19:12:06.259228Z",
     "iopub.status.busy": "2022-06-19T19:12:06.258214Z",
     "iopub.status.idle": "2022-06-19T19:12:06.272492Z",
     "shell.execute_reply": "2022-06-19T19:12:06.271366Z",
     "shell.execute_reply.started": "2022-06-19T19:12:06.259171Z"
    }
   },
   "outputs": [
    {
     "data": {
      "text/plain": [
       "TRAPPIST-1e      5915\n",
       "55 Cancri e      1800\n",
       "PSO J318.5-22     796\n",
       "Name: Destination, dtype: int64"
      ]
     },
     "execution_count": 20,
     "metadata": {},
     "output_type": "execute_result"
    }
   ],
   "source": [
    "df_train['Destination'].value_counts()"
   ]
  },
  {
   "cell_type": "code",
   "execution_count": 21,
   "metadata": {
    "execution": {
     "iopub.execute_input": "2022-06-19T19:12:06.275024Z",
     "iopub.status.busy": "2022-06-19T19:12:06.274253Z",
     "iopub.status.idle": "2022-06-19T19:12:06.281786Z",
     "shell.execute_reply": "2022-06-19T19:12:06.281066Z",
     "shell.execute_reply.started": "2022-06-19T19:12:06.274975Z"
    }
   },
   "outputs": [
    {
     "data": {
      "text/plain": [
       "array(['TRAPPIST-1e', 'PSO J318.5-22', '55 Cancri e', nan], dtype=object)"
      ]
     },
     "execution_count": 21,
     "metadata": {},
     "output_type": "execute_result"
    }
   ],
   "source": [
    "df_train['Destination'].unique()"
   ]
  },
  {
   "cell_type": "code",
   "execution_count": 22,
   "metadata": {
    "execution": {
     "iopub.execute_input": "2022-06-19T19:12:06.283667Z",
     "iopub.status.busy": "2022-06-19T19:12:06.283222Z",
     "iopub.status.idle": "2022-06-19T19:12:06.296031Z",
     "shell.execute_reply": "2022-06-19T19:12:06.29499Z",
     "shell.execute_reply.started": "2022-06-19T19:12:06.283623Z"
    }
   },
   "outputs": [],
   "source": [
    "df_train['Destination'] = df_train['Destination'].fillna('TRAPPIST-1e')\n",
    "df_test['Destination'] = df_test['Destination'].fillna('TRAPPIST-1e')"
   ]
  },
  {
   "cell_type": "code",
   "execution_count": 23,
   "metadata": {
    "execution": {
     "iopub.execute_input": "2022-06-19T19:12:06.29846Z",
     "iopub.status.busy": "2022-06-19T19:12:06.297817Z",
     "iopub.status.idle": "2022-06-19T19:12:06.308764Z",
     "shell.execute_reply": "2022-06-19T19:12:06.307521Z",
     "shell.execute_reply.started": "2022-06-19T19:12:06.298417Z"
    }
   },
   "outputs": [],
   "source": [
    "df_train['Destination'] = df_train['Destination'].map({'TRAPPIST-1e':0, '55 Cancri e':1, 'PSO J318.5-22':2})\n",
    "df_test['Destination'] = df_test['Destination'].map({'TRAPPIST-1e':0, '55 Cancri e':1, 'PSO J318.5-22':2})"
   ]
  },
  {
   "cell_type": "code",
   "execution_count": 24,
   "metadata": {
    "execution": {
     "iopub.execute_input": "2022-06-19T19:12:06.311206Z",
     "iopub.status.busy": "2022-06-19T19:12:06.310668Z",
     "iopub.status.idle": "2022-06-19T19:12:06.337516Z",
     "shell.execute_reply": "2022-06-19T19:12:06.336225Z",
     "shell.execute_reply.started": "2022-06-19T19:12:06.311157Z"
    }
   },
   "outputs": [
    {
     "data": {
      "text/html": [
       "<div>\n",
       "<style scoped>\n",
       "    .dataframe tbody tr th:only-of-type {\n",
       "        vertical-align: middle;\n",
       "    }\n",
       "\n",
       "    .dataframe tbody tr th {\n",
       "        vertical-align: top;\n",
       "    }\n",
       "\n",
       "    .dataframe thead th {\n",
       "        text-align: right;\n",
       "    }\n",
       "</style>\n",
       "<table border=\"1\" class=\"dataframe\">\n",
       "  <thead>\n",
       "    <tr style=\"text-align: right;\">\n",
       "      <th></th>\n",
       "      <th>CryoSleep</th>\n",
       "      <th>Destination</th>\n",
       "      <th>Age</th>\n",
       "      <th>VIP</th>\n",
       "      <th>RoomService</th>\n",
       "      <th>FoodCourt</th>\n",
       "      <th>ShoppingMall</th>\n",
       "      <th>Spa</th>\n",
       "      <th>VRDeck</th>\n",
       "      <th>Transported</th>\n",
       "      <th>Europa</th>\n",
       "      <th>Mars</th>\n",
       "    </tr>\n",
       "  </thead>\n",
       "  <tbody>\n",
       "    <tr>\n",
       "      <th>8688</th>\n",
       "      <td>0.0</td>\n",
       "      <td>1</td>\n",
       "      <td>41.0</td>\n",
       "      <td>1.0</td>\n",
       "      <td>0.0</td>\n",
       "      <td>6819.0</td>\n",
       "      <td>0.0</td>\n",
       "      <td>1643.0</td>\n",
       "      <td>74.0</td>\n",
       "      <td>False</td>\n",
       "      <td>1</td>\n",
       "      <td>0</td>\n",
       "    </tr>\n",
       "    <tr>\n",
       "      <th>8689</th>\n",
       "      <td>1.0</td>\n",
       "      <td>2</td>\n",
       "      <td>18.0</td>\n",
       "      <td>0.0</td>\n",
       "      <td>0.0</td>\n",
       "      <td>0.0</td>\n",
       "      <td>0.0</td>\n",
       "      <td>0.0</td>\n",
       "      <td>0.0</td>\n",
       "      <td>False</td>\n",
       "      <td>0</td>\n",
       "      <td>0</td>\n",
       "    </tr>\n",
       "    <tr>\n",
       "      <th>8690</th>\n",
       "      <td>0.0</td>\n",
       "      <td>0</td>\n",
       "      <td>26.0</td>\n",
       "      <td>0.0</td>\n",
       "      <td>0.0</td>\n",
       "      <td>0.0</td>\n",
       "      <td>1872.0</td>\n",
       "      <td>1.0</td>\n",
       "      <td>0.0</td>\n",
       "      <td>True</td>\n",
       "      <td>0</td>\n",
       "      <td>0</td>\n",
       "    </tr>\n",
       "    <tr>\n",
       "      <th>8691</th>\n",
       "      <td>0.0</td>\n",
       "      <td>1</td>\n",
       "      <td>32.0</td>\n",
       "      <td>0.0</td>\n",
       "      <td>0.0</td>\n",
       "      <td>1049.0</td>\n",
       "      <td>0.0</td>\n",
       "      <td>353.0</td>\n",
       "      <td>3235.0</td>\n",
       "      <td>False</td>\n",
       "      <td>1</td>\n",
       "      <td>0</td>\n",
       "    </tr>\n",
       "    <tr>\n",
       "      <th>8692</th>\n",
       "      <td>0.0</td>\n",
       "      <td>0</td>\n",
       "      <td>44.0</td>\n",
       "      <td>0.0</td>\n",
       "      <td>126.0</td>\n",
       "      <td>4688.0</td>\n",
       "      <td>0.0</td>\n",
       "      <td>0.0</td>\n",
       "      <td>12.0</td>\n",
       "      <td>True</td>\n",
       "      <td>1</td>\n",
       "      <td>0</td>\n",
       "    </tr>\n",
       "  </tbody>\n",
       "</table>\n",
       "</div>"
      ],
      "text/plain": [
       "      CryoSleep  Destination   Age  VIP  RoomService  FoodCourt  ShoppingMall  \\\n",
       "8688        0.0            1  41.0  1.0          0.0     6819.0           0.0   \n",
       "8689        1.0            2  18.0  0.0          0.0        0.0           0.0   \n",
       "8690        0.0            0  26.0  0.0          0.0        0.0        1872.0   \n",
       "8691        0.0            1  32.0  0.0          0.0     1049.0           0.0   \n",
       "8692        0.0            0  44.0  0.0        126.0     4688.0           0.0   \n",
       "\n",
       "         Spa  VRDeck  Transported  Europa  Mars  \n",
       "8688  1643.0    74.0        False       1     0  \n",
       "8689     0.0     0.0        False       0     0  \n",
       "8690     1.0     0.0         True       0     0  \n",
       "8691   353.0  3235.0        False       1     0  \n",
       "8692     0.0    12.0         True       1     0  "
      ]
     },
     "execution_count": 24,
     "metadata": {},
     "output_type": "execute_result"
    }
   ],
   "source": [
    "df_train.tail()"
   ]
  },
  {
   "cell_type": "code",
   "execution_count": 25,
   "metadata": {
    "execution": {
     "iopub.execute_input": "2022-06-19T19:12:06.339485Z",
     "iopub.status.busy": "2022-06-19T19:12:06.339003Z",
     "iopub.status.idle": "2022-06-19T19:12:06.356223Z",
     "shell.execute_reply": "2022-06-19T19:12:06.355218Z",
     "shell.execute_reply.started": "2022-06-19T19:12:06.339446Z"
    }
   },
   "outputs": [
    {
     "name": "stdout",
     "output_type": "stream",
     "text": [
      "<class 'pandas.core.frame.DataFrame'>\n",
      "RangeIndex: 8693 entries, 0 to 8692\n",
      "Data columns (total 12 columns):\n",
      " #   Column        Non-Null Count  Dtype  \n",
      "---  ------        --------------  -----  \n",
      " 0   CryoSleep     8693 non-null   float64\n",
      " 1   Destination   8693 non-null   int64  \n",
      " 2   Age           8514 non-null   float64\n",
      " 3   VIP           8490 non-null   float64\n",
      " 4   RoomService   8512 non-null   float64\n",
      " 5   FoodCourt     8510 non-null   float64\n",
      " 6   ShoppingMall  8485 non-null   float64\n",
      " 7   Spa           8510 non-null   float64\n",
      " 8   VRDeck        8505 non-null   float64\n",
      " 9   Transported   8693 non-null   bool   \n",
      " 10  Europa        8693 non-null   uint8  \n",
      " 11  Mars          8693 non-null   uint8  \n",
      "dtypes: bool(1), float64(8), int64(1), uint8(2)\n",
      "memory usage: 636.8 KB\n"
     ]
    }
   ],
   "source": [
    "df_train.info()"
   ]
  },
  {
   "cell_type": "code",
   "execution_count": 26,
   "metadata": {
    "execution": {
     "iopub.execute_input": "2022-06-19T19:12:06.357934Z",
     "iopub.status.busy": "2022-06-19T19:12:06.357357Z",
     "iopub.status.idle": "2022-06-19T19:12:06.36475Z",
     "shell.execute_reply": "2022-06-19T19:12:06.363939Z",
     "shell.execute_reply.started": "2022-06-19T19:12:06.3579Z"
    }
   },
   "outputs": [],
   "source": [
    "df_train['Transported'] = df_train['Transported'].map({True:1, False:0})"
   ]
  },
  {
   "cell_type": "code",
   "execution_count": 27,
   "metadata": {
    "execution": {
     "iopub.execute_input": "2022-06-19T19:12:06.366698Z",
     "iopub.status.busy": "2022-06-19T19:12:06.365882Z",
     "iopub.status.idle": "2022-06-19T19:12:06.373455Z",
     "shell.execute_reply": "2022-06-19T19:12:06.372603Z",
     "shell.execute_reply.started": "2022-06-19T19:12:06.366646Z"
    }
   },
   "outputs": [
    {
     "name": "stdout",
     "output_type": "stream",
     "text": [
      "(8693, 12) (4277, 12)\n"
     ]
    }
   ],
   "source": [
    "print(df_train.shape,df_test.shape)"
   ]
  },
  {
   "cell_type": "code",
   "execution_count": 28,
   "metadata": {
    "execution": {
     "iopub.execute_input": "2022-06-19T19:12:06.377719Z",
     "iopub.status.busy": "2022-06-19T19:12:06.375299Z",
     "iopub.status.idle": "2022-06-19T19:12:06.389955Z",
     "shell.execute_reply": "2022-06-19T19:12:06.388857Z",
     "shell.execute_reply.started": "2022-06-19T19:12:06.377561Z"
    }
   },
   "outputs": [
    {
     "data": {
      "text/plain": [
       "CryoSleep         0\n",
       "Destination       0\n",
       "Age             179\n",
       "VIP             203\n",
       "RoomService     181\n",
       "FoodCourt       183\n",
       "ShoppingMall    208\n",
       "Spa             183\n",
       "VRDeck          188\n",
       "Transported       0\n",
       "Europa            0\n",
       "Mars              0\n",
       "dtype: int64"
      ]
     },
     "execution_count": 28,
     "metadata": {},
     "output_type": "execute_result"
    }
   ],
   "source": [
    "df_train.isnull().sum()"
   ]
  },
  {
   "cell_type": "code",
   "execution_count": 29,
   "metadata": {
    "execution": {
     "iopub.execute_input": "2022-06-19T19:12:06.3968Z",
     "iopub.status.busy": "2022-06-19T19:12:06.395704Z",
     "iopub.status.idle": "2022-06-19T19:12:06.403675Z",
     "shell.execute_reply": "2022-06-19T19:12:06.40263Z",
     "shell.execute_reply.started": "2022-06-19T19:12:06.396756Z"
    }
   },
   "outputs": [],
   "source": [
    "df_train['Age'] = df_train['Age'].fillna(df_train['Age'].median())\n",
    "df_test['Age'] = df_test['Age'].fillna(df_test['Age'].median())"
   ]
  },
  {
   "cell_type": "code",
   "execution_count": 30,
   "metadata": {
    "execution": {
     "iopub.execute_input": "2022-06-19T19:12:06.405993Z",
     "iopub.status.busy": "2022-06-19T19:12:06.404756Z",
     "iopub.status.idle": "2022-06-19T19:12:06.420812Z",
     "shell.execute_reply": "2022-06-19T19:12:06.419653Z",
     "shell.execute_reply.started": "2022-06-19T19:12:06.405943Z"
    }
   },
   "outputs": [
    {
     "data": {
      "text/plain": [
       "0.0    8291\n",
       "1.0     199\n",
       "Name: VIP, dtype: int64"
      ]
     },
     "execution_count": 30,
     "metadata": {},
     "output_type": "execute_result"
    }
   ],
   "source": [
    "df_train['VIP'].value_counts()"
   ]
  },
  {
   "cell_type": "code",
   "execution_count": 31,
   "metadata": {
    "execution": {
     "iopub.execute_input": "2022-06-19T19:12:06.424291Z",
     "iopub.status.busy": "2022-06-19T19:12:06.423767Z",
     "iopub.status.idle": "2022-06-19T19:12:06.432473Z",
     "shell.execute_reply": "2022-06-19T19:12:06.431445Z",
     "shell.execute_reply.started": "2022-06-19T19:12:06.424218Z"
    }
   },
   "outputs": [],
   "source": [
    "df_train['VIP'] = df_train['VIP'].fillna(0)\n",
    "df_test['VIP'] = df_test['VIP'].fillna(0)"
   ]
  },
  {
   "cell_type": "code",
   "execution_count": 32,
   "metadata": {
    "execution": {
     "iopub.execute_input": "2022-06-19T19:12:06.434797Z",
     "iopub.status.busy": "2022-06-19T19:12:06.433921Z",
     "iopub.status.idle": "2022-06-19T19:12:06.444069Z",
     "shell.execute_reply": "2022-06-19T19:12:06.442995Z",
     "shell.execute_reply.started": "2022-06-19T19:12:06.434742Z"
    }
   },
   "outputs": [],
   "source": [
    "df_train['RoomService'] = df_train['RoomService'].fillna(df_train['RoomService'].mean())\n",
    "df_test['RoomService'] = df_test['RoomService'].fillna(df_test['RoomService'].mean())"
   ]
  },
  {
   "cell_type": "code",
   "execution_count": 33,
   "metadata": {
    "execution": {
     "iopub.execute_input": "2022-06-19T19:12:06.445777Z",
     "iopub.status.busy": "2022-06-19T19:12:06.445222Z",
     "iopub.status.idle": "2022-06-19T19:12:06.454623Z",
     "shell.execute_reply": "2022-06-19T19:12:06.453694Z",
     "shell.execute_reply.started": "2022-06-19T19:12:06.445732Z"
    }
   },
   "outputs": [],
   "source": [
    "df_train['FoodCourt'] = df_train['FoodCourt'].fillna(df_train['FoodCourt'].mean())\n",
    "df_test['FoodCourt'] = df_test['FoodCourt'].fillna(df_test['FoodCourt'].mean())"
   ]
  },
  {
   "cell_type": "code",
   "execution_count": 34,
   "metadata": {
    "execution": {
     "iopub.execute_input": "2022-06-19T19:12:06.456351Z",
     "iopub.status.busy": "2022-06-19T19:12:06.455845Z",
     "iopub.status.idle": "2022-06-19T19:12:06.465166Z",
     "shell.execute_reply": "2022-06-19T19:12:06.464358Z",
     "shell.execute_reply.started": "2022-06-19T19:12:06.456319Z"
    }
   },
   "outputs": [],
   "source": [
    "df_train['ShoppingMall'] = df_train['ShoppingMall'].fillna(df_train['ShoppingMall'].mean())\n",
    "df_test['ShoppingMall'] = df_test['ShoppingMall'].fillna(df_test['ShoppingMall'].mean())"
   ]
  },
  {
   "cell_type": "code",
   "execution_count": 35,
   "metadata": {
    "execution": {
     "iopub.execute_input": "2022-06-19T19:12:06.467175Z",
     "iopub.status.busy": "2022-06-19T19:12:06.46678Z",
     "iopub.status.idle": "2022-06-19T19:12:06.477507Z",
     "shell.execute_reply": "2022-06-19T19:12:06.476509Z",
     "shell.execute_reply.started": "2022-06-19T19:12:06.467142Z"
    }
   },
   "outputs": [],
   "source": [
    "df_train['Spa'] = df_train['Spa'].fillna(df_train['Spa'].mean())\n",
    "df_test['Spa'] = df_test['Spa'].fillna(df_test['Spa'].mean())"
   ]
  },
  {
   "cell_type": "code",
   "execution_count": 36,
   "metadata": {
    "execution": {
     "iopub.execute_input": "2022-06-19T19:12:06.479619Z",
     "iopub.status.busy": "2022-06-19T19:12:06.478607Z",
     "iopub.status.idle": "2022-06-19T19:12:06.487608Z",
     "shell.execute_reply": "2022-06-19T19:12:06.486707Z",
     "shell.execute_reply.started": "2022-06-19T19:12:06.479585Z"
    }
   },
   "outputs": [],
   "source": [
    "df_train['VRDeck'] = df_train['VRDeck'].fillna(df_train['VRDeck'].mean())\n",
    "df_test['VRDeck'] = df_test['VRDeck'].fillna(df_test['VRDeck'].mean())"
   ]
  },
  {
   "cell_type": "code",
   "execution_count": 37,
   "metadata": {
    "execution": {
     "iopub.execute_input": "2022-06-19T19:12:06.489449Z",
     "iopub.status.busy": "2022-06-19T19:12:06.488732Z",
     "iopub.status.idle": "2022-06-19T19:12:06.502491Z",
     "shell.execute_reply": "2022-06-19T19:12:06.501543Z",
     "shell.execute_reply.started": "2022-06-19T19:12:06.489418Z"
    }
   },
   "outputs": [
    {
     "data": {
      "text/plain": [
       "CryoSleep       0\n",
       "Destination     0\n",
       "Age             0\n",
       "VIP             0\n",
       "RoomService     0\n",
       "FoodCourt       0\n",
       "ShoppingMall    0\n",
       "Spa             0\n",
       "VRDeck          0\n",
       "Transported     0\n",
       "Europa          0\n",
       "Mars            0\n",
       "dtype: int64"
      ]
     },
     "execution_count": 37,
     "metadata": {},
     "output_type": "execute_result"
    }
   ],
   "source": [
    "df_train.isnull().sum()"
   ]
  },
  {
   "cell_type": "code",
   "execution_count": 38,
   "metadata": {
    "execution": {
     "iopub.execute_input": "2022-06-19T19:12:06.504712Z",
     "iopub.status.busy": "2022-06-19T19:12:06.503961Z",
     "iopub.status.idle": "2022-06-19T19:12:06.513605Z",
     "shell.execute_reply": "2022-06-19T19:12:06.51228Z",
     "shell.execute_reply.started": "2022-06-19T19:12:06.504674Z"
    }
   },
   "outputs": [
    {
     "data": {
      "text/plain": [
       "PassengerId     0\n",
       "CryoSleep       0\n",
       "Destination     0\n",
       "Age             0\n",
       "VIP             0\n",
       "RoomService     0\n",
       "FoodCourt       0\n",
       "ShoppingMall    0\n",
       "Spa             0\n",
       "VRDeck          0\n",
       "Europa          0\n",
       "Mars            0\n",
       "dtype: int64"
      ]
     },
     "execution_count": 38,
     "metadata": {},
     "output_type": "execute_result"
    }
   ],
   "source": [
    "df_test.isnull().sum()"
   ]
  },
  {
   "cell_type": "code",
   "execution_count": 39,
   "metadata": {
    "execution": {
     "iopub.execute_input": "2022-06-19T19:12:06.515916Z",
     "iopub.status.busy": "2022-06-19T19:12:06.515226Z",
     "iopub.status.idle": "2022-06-19T19:12:06.523Z",
     "shell.execute_reply": "2022-06-19T19:12:06.521924Z",
     "shell.execute_reply.started": "2022-06-19T19:12:06.515861Z"
    }
   },
   "outputs": [
    {
     "name": "stdout",
     "output_type": "stream",
     "text": [
      "(8693, 12) (4277, 12)\n"
     ]
    }
   ],
   "source": [
    "print(df_train.shape,df_test.shape)"
   ]
  },
  {
   "cell_type": "code",
   "execution_count": 40,
   "metadata": {
    "execution": {
     "iopub.execute_input": "2022-06-19T19:12:06.52445Z",
     "iopub.status.busy": "2022-06-19T19:12:06.524035Z",
     "iopub.status.idle": "2022-06-19T19:12:06.534513Z",
     "shell.execute_reply": "2022-06-19T19:12:06.533569Z",
     "shell.execute_reply.started": "2022-06-19T19:12:06.524405Z"
    }
   },
   "outputs": [],
   "source": [
    "df_test.drop('PassengerId',axis = 1,inplace = True)"
   ]
  },
  {
   "cell_type": "code",
   "execution_count": 41,
   "metadata": {
    "execution": {
     "iopub.execute_input": "2022-06-19T19:12:06.536088Z",
     "iopub.status.busy": "2022-06-19T19:12:06.535649Z",
     "iopub.status.idle": "2022-06-19T19:12:06.550712Z",
     "shell.execute_reply": "2022-06-19T19:12:06.549455Z",
     "shell.execute_reply.started": "2022-06-19T19:12:06.536058Z"
    }
   },
   "outputs": [],
   "source": [
    "df_final = df_train.append(df_test)"
   ]
  },
  {
   "cell_type": "code",
   "execution_count": 42,
   "metadata": {
    "execution": {
     "iopub.execute_input": "2022-06-19T19:12:06.552567Z",
     "iopub.status.busy": "2022-06-19T19:12:06.55177Z",
     "iopub.status.idle": "2022-06-19T19:12:06.562378Z",
     "shell.execute_reply": "2022-06-19T19:12:06.561364Z",
     "shell.execute_reply.started": "2022-06-19T19:12:06.552526Z"
    }
   },
   "outputs": [
    {
     "data": {
      "text/plain": [
       "CryoSleep          0\n",
       "Destination        0\n",
       "Age                0\n",
       "VIP                0\n",
       "RoomService        0\n",
       "FoodCourt          0\n",
       "ShoppingMall       0\n",
       "Spa                0\n",
       "VRDeck             0\n",
       "Transported     4277\n",
       "Europa             0\n",
       "Mars               0\n",
       "dtype: int64"
      ]
     },
     "execution_count": 42,
     "metadata": {},
     "output_type": "execute_result"
    }
   ],
   "source": [
    "df_final.isnull().sum()"
   ]
  },
  {
   "cell_type": "code",
   "execution_count": 43,
   "metadata": {
    "execution": {
     "iopub.execute_input": "2022-06-19T19:12:06.564282Z",
     "iopub.status.busy": "2022-06-19T19:12:06.563778Z",
     "iopub.status.idle": "2022-06-19T19:12:06.575008Z",
     "shell.execute_reply": "2022-06-19T19:12:06.57393Z",
     "shell.execute_reply.started": "2022-06-19T19:12:06.564219Z"
    }
   },
   "outputs": [],
   "source": [
    "X = df_train.drop('Transported',axis = 1)\n",
    "y = df_train['Transported']"
   ]
  },
  {
   "cell_type": "code",
   "execution_count": 44,
   "metadata": {
    "execution": {
     "iopub.execute_input": "2022-06-19T19:12:06.5768Z",
     "iopub.status.busy": "2022-06-19T19:12:06.576043Z",
     "iopub.status.idle": "2022-06-19T19:12:06.587927Z",
     "shell.execute_reply": "2022-06-19T19:12:06.586827Z",
     "shell.execute_reply.started": "2022-06-19T19:12:06.576759Z"
    }
   },
   "outputs": [],
   "source": [
    "from sklearn.model_selection import train_test_split\n",
    "X_train, X_test, y_train, y_test = train_test_split(X, y, test_size=0.30, random_state=45)"
   ]
  },
  {
   "cell_type": "markdown",
   "metadata": {},
   "source": [
    "**KNN Classifier**"
   ]
  },
  {
   "cell_type": "code",
   "execution_count": 45,
   "metadata": {
    "execution": {
     "iopub.execute_input": "2022-06-19T19:12:06.590168Z",
     "iopub.status.busy": "2022-06-19T19:12:06.589236Z",
     "iopub.status.idle": "2022-06-19T19:12:06.747095Z",
     "shell.execute_reply": "2022-06-19T19:12:06.746132Z",
     "shell.execute_reply.started": "2022-06-19T19:12:06.590121Z"
    }
   },
   "outputs": [],
   "source": [
    "from sklearn.neighbors import KNeighborsClassifier\n",
    "kc = KNeighborsClassifier(n_neighbors = 5,metric = 'minkowski', p = 2)\n",
    "kc.fit(X_train,y_train)\n",
    "y_pred = kc.predict(X_test)"
   ]
  },
  {
   "cell_type": "code",
   "execution_count": 46,
   "metadata": {
    "execution": {
     "iopub.execute_input": "2022-06-19T19:12:06.748751Z",
     "iopub.status.busy": "2022-06-19T19:12:06.748327Z",
     "iopub.status.idle": "2022-06-19T19:12:06.758769Z",
     "shell.execute_reply": "2022-06-19T19:12:06.757666Z",
     "shell.execute_reply.started": "2022-06-19T19:12:06.748718Z"
    }
   },
   "outputs": [
    {
     "name": "stdout",
     "output_type": "stream",
     "text": [
      "[[1002  330]\n",
      " [ 283  993]]\n"
     ]
    },
    {
     "data": {
      "text/plain": [
       "0.7649539877300614"
      ]
     },
     "execution_count": 46,
     "metadata": {},
     "output_type": "execute_result"
    }
   ],
   "source": [
    "from sklearn.metrics import confusion_matrix,accuracy_score\n",
    "cm = confusion_matrix(y_test, y_pred)\n",
    "print(cm)\n",
    "accuracy_score(y_test, y_pred)"
   ]
  },
  {
   "cell_type": "markdown",
   "metadata": {},
   "source": [
    "**Naive Bayes**"
   ]
  },
  {
   "cell_type": "code",
   "execution_count": 47,
   "metadata": {
    "execution": {
     "iopub.execute_input": "2022-06-19T19:12:06.760369Z",
     "iopub.status.busy": "2022-06-19T19:12:06.760008Z",
     "iopub.status.idle": "2022-06-19T19:12:06.778466Z",
     "shell.execute_reply": "2022-06-19T19:12:06.777461Z",
     "shell.execute_reply.started": "2022-06-19T19:12:06.760331Z"
    }
   },
   "outputs": [
    {
     "name": "stdout",
     "output_type": "stream",
     "text": [
      "[[ 630  702]\n",
      " [  93 1183]]\n"
     ]
    },
    {
     "data": {
      "text/plain": [
       "0.6951687116564417"
      ]
     },
     "execution_count": 47,
     "metadata": {},
     "output_type": "execute_result"
    }
   ],
   "source": [
    "from sklearn.naive_bayes import GaussianNB\n",
    "gb = GaussianNB()\n",
    "gb.fit(X_train,y_train)\n",
    "y_pred = gb.predict(X_test)\n",
    "cm = confusion_matrix(y_test, y_pred)\n",
    "print(cm)\n",
    "accuracy_score(y_test, y_pred)"
   ]
  },
  {
   "cell_type": "markdown",
   "metadata": {},
   "source": [
    "**Random Forest**"
   ]
  },
  {
   "cell_type": "code",
   "execution_count": 48,
   "metadata": {
    "execution": {
     "iopub.execute_input": "2022-06-19T19:12:06.780157Z",
     "iopub.status.busy": "2022-06-19T19:12:06.779715Z",
     "iopub.status.idle": "2022-06-19T19:12:14.988497Z",
     "shell.execute_reply": "2022-06-19T19:12:14.987479Z",
     "shell.execute_reply.started": "2022-06-19T19:12:06.780125Z"
    }
   },
   "outputs": [
    {
     "data": {
      "text/plain": [
       "RandomForestClassifier(criterion='entropy', n_estimators=1000, random_state=0)"
      ]
     },
     "execution_count": 48,
     "metadata": {},
     "output_type": "execute_result"
    }
   ],
   "source": [
    "from sklearn.ensemble import RandomForestClassifier\n",
    "Rf = RandomForestClassifier(n_estimators = 1000 , criterion = 'entropy',random_state = 0)\n",
    "Rf.fit(X_train,y_train)"
   ]
  },
  {
   "cell_type": "code",
   "execution_count": 49,
   "metadata": {
    "execution": {
     "iopub.execute_input": "2022-06-19T19:12:14.990115Z",
     "iopub.status.busy": "2022-06-19T19:12:14.989751Z",
     "iopub.status.idle": "2022-06-19T19:12:15.578799Z",
     "shell.execute_reply": "2022-06-19T19:12:15.577822Z",
     "shell.execute_reply.started": "2022-06-19T19:12:14.990081Z"
    }
   },
   "outputs": [],
   "source": [
    "y_pred = Rf.predict(X_test)"
   ]
  },
  {
   "cell_type": "code",
   "execution_count": 50,
   "metadata": {
    "execution": {
     "iopub.execute_input": "2022-06-19T19:12:15.580958Z",
     "iopub.status.busy": "2022-06-19T19:12:15.580094Z",
     "iopub.status.idle": "2022-06-19T19:12:15.588257Z",
     "shell.execute_reply": "2022-06-19T19:12:15.587641Z",
     "shell.execute_reply.started": "2022-06-19T19:12:15.580917Z"
    }
   },
   "outputs": [
    {
     "name": "stdout",
     "output_type": "stream",
     "text": [
      "[[1060  272]\n",
      " [ 288  988]]\n"
     ]
    },
    {
     "data": {
      "text/plain": [
       "0.7852760736196319"
      ]
     },
     "execution_count": 50,
     "metadata": {},
     "output_type": "execute_result"
    }
   ],
   "source": [
    "cm = confusion_matrix(y_test, y_pred)\n",
    "print(cm)\n",
    "accuracy_score(y_test, y_pred)"
   ]
  },
  {
   "cell_type": "markdown",
   "metadata": {},
   "source": [
    "**RandomForest_Classifier accuracy score : 0.78**"
   ]
  },
  {
   "cell_type": "code",
   "execution_count": 51,
   "metadata": {
    "execution": {
     "iopub.execute_input": "2022-06-19T19:12:17.443031Z",
     "iopub.status.busy": "2022-06-19T19:12:17.442273Z",
     "iopub.status.idle": "2022-06-19T19:12:17.451128Z",
     "shell.execute_reply": "2022-06-19T19:12:17.450348Z",
     "shell.execute_reply.started": "2022-06-19T19:12:17.442997Z"
    }
   },
   "outputs": [],
   "source": [
    "# pred = pd.DataFrame(pred, columns=[\"Transported\"])\n",
    "# pred['Transported'] = pred['Transported'].map({1:True,0:False})"
   ]
  },
  {
   "cell_type": "code",
   "execution_count": 52,
   "metadata": {
    "execution": {
     "iopub.execute_input": "2022-06-19T19:12:17.452645Z",
     "iopub.status.busy": "2022-06-19T19:12:17.452305Z",
     "iopub.status.idle": "2022-06-19T19:12:17.49145Z",
     "shell.execute_reply": "2022-06-19T19:12:17.490355Z",
     "shell.execute_reply.started": "2022-06-19T19:12:17.452613Z"
    }
   },
   "outputs": [],
   "source": [
    "# submission = pd.concat([pd.read_csv(\"/kaggle/input/spaceship-titanic/test.csv\"), pd.DataFrame(pred)], axis=1)[[\"PassengerId\", \"Transported\"]]\n",
    "# submission.to_csv('submission.csv',index=False)"
   ]
  },
  {
   "cell_type": "code",
   "execution_count": 53,
   "metadata": {},
   "outputs": [
    {
     "data": {
      "text/html": [
       "<div>\n",
       "<style scoped>\n",
       "    .dataframe tbody tr th:only-of-type {\n",
       "        vertical-align: middle;\n",
       "    }\n",
       "\n",
       "    .dataframe tbody tr th {\n",
       "        vertical-align: top;\n",
       "    }\n",
       "\n",
       "    .dataframe thead th {\n",
       "        text-align: right;\n",
       "    }\n",
       "</style>\n",
       "<table border=\"1\" class=\"dataframe\">\n",
       "  <thead>\n",
       "    <tr style=\"text-align: right;\">\n",
       "      <th></th>\n",
       "      <th>CryoSleep</th>\n",
       "      <th>Destination</th>\n",
       "      <th>Age</th>\n",
       "      <th>VIP</th>\n",
       "      <th>RoomService</th>\n",
       "      <th>FoodCourt</th>\n",
       "      <th>ShoppingMall</th>\n",
       "      <th>Spa</th>\n",
       "      <th>VRDeck</th>\n",
       "      <th>Transported</th>\n",
       "      <th>Europa</th>\n",
       "      <th>Mars</th>\n",
       "    </tr>\n",
       "  </thead>\n",
       "  <tbody>\n",
       "    <tr>\n",
       "      <th>0</th>\n",
       "      <td>0.0</td>\n",
       "      <td>0</td>\n",
       "      <td>39.0</td>\n",
       "      <td>0.0</td>\n",
       "      <td>0.0</td>\n",
       "      <td>0.0</td>\n",
       "      <td>0.0</td>\n",
       "      <td>0.0</td>\n",
       "      <td>0.0</td>\n",
       "      <td>0</td>\n",
       "      <td>1</td>\n",
       "      <td>0</td>\n",
       "    </tr>\n",
       "    <tr>\n",
       "      <th>1</th>\n",
       "      <td>0.0</td>\n",
       "      <td>0</td>\n",
       "      <td>24.0</td>\n",
       "      <td>0.0</td>\n",
       "      <td>109.0</td>\n",
       "      <td>9.0</td>\n",
       "      <td>25.0</td>\n",
       "      <td>549.0</td>\n",
       "      <td>44.0</td>\n",
       "      <td>1</td>\n",
       "      <td>0</td>\n",
       "      <td>0</td>\n",
       "    </tr>\n",
       "    <tr>\n",
       "      <th>2</th>\n",
       "      <td>0.0</td>\n",
       "      <td>0</td>\n",
       "      <td>58.0</td>\n",
       "      <td>1.0</td>\n",
       "      <td>43.0</td>\n",
       "      <td>3576.0</td>\n",
       "      <td>0.0</td>\n",
       "      <td>6715.0</td>\n",
       "      <td>49.0</td>\n",
       "      <td>0</td>\n",
       "      <td>1</td>\n",
       "      <td>0</td>\n",
       "    </tr>\n",
       "    <tr>\n",
       "      <th>3</th>\n",
       "      <td>0.0</td>\n",
       "      <td>0</td>\n",
       "      <td>33.0</td>\n",
       "      <td>0.0</td>\n",
       "      <td>0.0</td>\n",
       "      <td>1283.0</td>\n",
       "      <td>371.0</td>\n",
       "      <td>3329.0</td>\n",
       "      <td>193.0</td>\n",
       "      <td>0</td>\n",
       "      <td>1</td>\n",
       "      <td>0</td>\n",
       "    </tr>\n",
       "    <tr>\n",
       "      <th>4</th>\n",
       "      <td>0.0</td>\n",
       "      <td>0</td>\n",
       "      <td>16.0</td>\n",
       "      <td>0.0</td>\n",
       "      <td>303.0</td>\n",
       "      <td>70.0</td>\n",
       "      <td>151.0</td>\n",
       "      <td>565.0</td>\n",
       "      <td>2.0</td>\n",
       "      <td>1</td>\n",
       "      <td>0</td>\n",
       "      <td>0</td>\n",
       "    </tr>\n",
       "  </tbody>\n",
       "</table>\n",
       "</div>"
      ],
      "text/plain": [
       "   CryoSleep  Destination   Age  VIP  RoomService  FoodCourt  ShoppingMall  \\\n",
       "0        0.0            0  39.0  0.0          0.0        0.0           0.0   \n",
       "1        0.0            0  24.0  0.0        109.0        9.0          25.0   \n",
       "2        0.0            0  58.0  1.0         43.0     3576.0           0.0   \n",
       "3        0.0            0  33.0  0.0          0.0     1283.0         371.0   \n",
       "4        0.0            0  16.0  0.0        303.0       70.0         151.0   \n",
       "\n",
       "      Spa  VRDeck  Transported  Europa  Mars  \n",
       "0     0.0     0.0            0       1     0  \n",
       "1   549.0    44.0            1       0     0  \n",
       "2  6715.0    49.0            0       1     0  \n",
       "3  3329.0   193.0            0       1     0  \n",
       "4   565.0     2.0            1       0     0  "
      ]
     },
     "execution_count": 53,
     "metadata": {},
     "output_type": "execute_result"
    }
   ],
   "source": [
    "df_train.head()"
   ]
  },
  {
   "cell_type": "code",
   "execution_count": 56,
   "metadata": {},
   "outputs": [
    {
     "data": {
      "text/plain": [
       "CryoSleep       float64\n",
       "Destination       int64\n",
       "Age             float64\n",
       "VIP             float64\n",
       "RoomService     float64\n",
       "FoodCourt       float64\n",
       "ShoppingMall    float64\n",
       "Spa             float64\n",
       "VRDeck          float64\n",
       "Europa            uint8\n",
       "Mars              uint8\n",
       "dtype: object"
      ]
     },
     "execution_count": 56,
     "metadata": {},
     "output_type": "execute_result"
    }
   ],
   "source": [
    "df_test.dtypes"
   ]
  },
  {
   "cell_type": "code",
   "execution_count": 54,
   "metadata": {},
   "outputs": [],
   "source": [
    "# import pickle\n",
    "# # open a file, where you ant to store the data\n",
    "# file = open('space_ship.pkl', 'wb')\n",
    "\n",
    "# # dump information to that file\n",
    "# pickle.dump(Rf, file)"
   ]
  }
 ],
 "metadata": {
  "kernelspec": {
   "display_name": "Python 3 (ipykernel)",
   "language": "python",
   "name": "python3"
  },
  "language_info": {
   "codemirror_mode": {
    "name": "ipython",
    "version": 3
   },
   "file_extension": ".py",
   "mimetype": "text/x-python",
   "name": "python",
   "nbconvert_exporter": "python",
   "pygments_lexer": "ipython3",
   "version": "3.9.7"
  }
 },
 "nbformat": 4,
 "nbformat_minor": 4
}
